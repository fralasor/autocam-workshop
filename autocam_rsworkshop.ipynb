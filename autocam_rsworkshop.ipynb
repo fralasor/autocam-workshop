{
 "cells": [
  {
   "cell_type": "markdown",
   "metadata": {},
   "source": [
    "Setting up modules"
   ]
  },
  {
   "cell_type": "code",
   "execution_count": null,
   "metadata": {},
   "outputs": [
    {
     "ename": "",
     "evalue": "",
     "output_type": "error",
     "traceback": [
      "\u001b[1;31mFailed to start the Kernel. \n",
      "\u001b[1;31mUnable to start Kernel 'autocam (Python 3.12.3)' due to a timeout waiting for the ports to get used. \n",
      "\u001b[1;31mView Jupyter <a href='command:jupyter.viewOutput'>log</a> for further details."
     ]
    }
   ],
   "source": [
    "import ee\n",
    "import geemap\n",
    "\n",
    "# ee.Authenticate()\n",
    "ee.Initialize()"
   ]
  },
  {
   "cell_type": "markdown",
   "metadata": {},
   "source": [
    "Parameters"
   ]
  },
  {
   "cell_type": "code",
   "execution_count": null,
   "metadata": {},
   "outputs": [
    {
     "ename": "",
     "evalue": "",
     "output_type": "error",
     "traceback": [
      "\u001b[1;31mFailed to start the Kernel. \n",
      "\u001b[1;31mUnable to start Kernel 'autocam (Python 3.12.3)' due to a timeout waiting for the ports to get used. \n",
      "\u001b[1;31mView Jupyter <a href='command:jupyter.viewOutput'>log</a> for further details."
     ]
    }
   ],
   "source": [
    "extent_path = fr\"D:/fsori/Documents/AUTOCAM/Study Area/tagum_boundbox.geojson\"\n",
    "\n",
    "AOI = geemap.geojson_to_ee(extent_path)\n",
    "START_DATE = '2023-01-01'\n",
    "END_DATE = '2023-12-31'\n",
    "CLOUD_FILTER = 60\n",
    "CLD_PRB_THRESH = 40\n",
    "NIR_DRK_THRESH = 0.15\n",
    "CLD_PRJ_DIST_km = 2\n",
    "BUFFER_m = 100\n",
    "output_name = 'tagum_q12023_s2'"
   ]
  },
  {
   "cell_type": "code",
   "execution_count": null,
   "metadata": {},
   "outputs": [
    {
     "ename": "",
     "evalue": "",
     "output_type": "error",
     "traceback": [
      "\u001b[1;31mFailed to start the Kernel. \n",
      "\u001b[1;31mUnable to start Kernel 'autocam (Python 3.12.3)' due to a timeout waiting for the ports to get used. \n",
      "\u001b[1;31mView Jupyter <a href='command:jupyter.viewOutput'>log</a> for further details."
     ]
    }
   ],
   "source": [
    "map1 = geemap.Map(height=\"900px\")\n",
    "map1"
   ]
  },
  {
   "cell_type": "markdown",
   "metadata": {},
   "source": [
    "Defining functions for cloud-masking"
   ]
  },
  {
   "cell_type": "code",
   "execution_count": 4,
   "metadata": {},
   "outputs": [
    {
     "data": {
      "text/html": [
       "\n",
       "            <style>\n",
       "                .geemap-dark {\n",
       "                    --jp-widgets-color: white;\n",
       "                    --jp-widgets-label-color: white;\n",
       "                    --jp-ui-font-color1: white;\n",
       "                    --jp-layout-color2: #454545;\n",
       "                    background-color: #383838;\n",
       "                }\n",
       "\n",
       "                .geemap-dark .jupyter-button {\n",
       "                    --jp-layout-color3: #383838;\n",
       "                }\n",
       "\n",
       "                .geemap-colab {\n",
       "                    background-color: var(--colab-primary-surface-color, white);\n",
       "                }\n",
       "\n",
       "                .geemap-colab .jupyter-button {\n",
       "                    --jp-layout-color3: var(--colab-primary-surface-color, white);\n",
       "                }\n",
       "            </style>\n",
       "            "
      ],
      "text/plain": [
       "<IPython.core.display.HTML object>"
      ]
     },
     "metadata": {},
     "output_type": "display_data"
    }
   ],
   "source": [
    "def get_s2_sr_cld_col(aoi, start_date, end_date):\n",
    "    # Import and filter S2 SR.\n",
    "    s2_sr_col = (ee.ImageCollection('COPERNICUS/S2_SR')\n",
    "        .filterBounds(aoi)\n",
    "        .filterDate(start_date, end_date)\n",
    "        .filter(ee.Filter.lte('CLOUDY_PIXEL_PERCENTAGE', CLOUD_FILTER)))\n",
    "\n",
    "    # Import and filter s2cloudless.\n",
    "    s2_cloudless_col = (ee.ImageCollection('COPERNICUS/S2_CLOUD_PROBABILITY')\n",
    "        .filterBounds(aoi)\n",
    "        .filterDate(start_date, end_date))\n",
    "\n",
    "    # Join the filtered s2cloudless collection to the SR collection by the 'system:index' property.\n",
    "    return ee.ImageCollection(ee.Join.saveFirst('s2cloudless').apply(**{\n",
    "        'primary': s2_sr_col,\n",
    "        'secondary': s2_cloudless_col,\n",
    "        'condition': ee.Filter.equals(**{\n",
    "            'leftField': 'system:index',\n",
    "            'rightField': 'system:index'\n",
    "        })\n",
    "    }))\n",
    "    \n",
    "def add_cloud_bands(img):\n",
    "    # Get s2cloudless image, subset the probability band.\n",
    "    cld_prb = ee.Image(img.get('s2cloudless')).select('probability')\n",
    "\n",
    "    # Condition s2cloudless by the probability threshold value.\n",
    "    is_cloud = cld_prb.gt(CLD_PRB_THRESH).rename('clouds')\n",
    "\n",
    "    # Add the cloud probability layer and cloud mask as image bands.\n",
    "    return img.addBands(ee.Image([cld_prb, is_cloud]))\n",
    "\n",
    "def add_shadow_bands(img):\n",
    "    # Identify water pixels from the SCL band.\n",
    "    not_water = img.select('SCL').neq(6)\n",
    "\n",
    "    # Identify dark NIR pixels that are not water (potential cloud shadow pixels).\n",
    "    SR_BAND_SCALE = 1e4\n",
    "    dark_pixels = img.select('B8').lt(NIR_DRK_THRESH*SR_BAND_SCALE).multiply(not_water).rename('dark_pixels')\n",
    "\n",
    "    # Determine the direction to project cloud shadow from clouds (assumes UTM projection).\n",
    "    shadow_azimuth = ee.Number(90).subtract(ee.Number(img.get('MEAN_SOLAR_AZIMUTH_ANGLE')));\n",
    "\n",
    "    # Project shadows from clouds for the distance specified by the CLD_PRJ_DIST_km input.\n",
    "    cld_proj = (img.select('clouds').directionalDistanceTransform(shadow_azimuth, CLD_PRJ_DIST_km*10)\n",
    "        .reproject(**{'crs': img.select(0).projection(), 'scale': 100})\n",
    "        .select('distance')\n",
    "        .mask()\n",
    "        .rename('cloud_transform'))\n",
    "\n",
    "    # Identify the intersection of dark pixels with cloud shadow projection.\n",
    "    shadows = cld_proj.multiply(dark_pixels).rename('shadows')\n",
    "\n",
    "    # Add dark pixels, cloud projection, and identified shadows as image bands.\n",
    "    return img.addBands(ee.Image([dark_pixels, cld_proj, shadows]))\n",
    "\n",
    "def add_cld_shdw_mask(img):\n",
    "    # Add cloud component bands.\n",
    "    img_cloud = add_cloud_bands(img)\n",
    "\n",
    "    # Add cloud shadow component bands.\n",
    "    img_cloud_shadow = add_shadow_bands(img_cloud)\n",
    "\n",
    "    # Combine cloud and shadow mask, set cloud and shadow as value 1, else 0.\n",
    "    is_cld_shdw = img_cloud_shadow.select('clouds').add(img_cloud_shadow.select('shadows')).gt(0)\n",
    "\n",
    "    # Remove small cloud-shadow patches and dilate remaining pixels by BUFFER input.\n",
    "    # 20 m scale is for speed, and assumes clouds don't require 10 m precision.\n",
    "    is_cld_shdw = (is_cld_shdw.focalMin(2).focalMax(BUFFER_m*2/20)\n",
    "        .reproject(**{'crs': img.select([0]).projection(), 'scale': 20})\n",
    "        .rename('cloudmask'))\n",
    "\n",
    "    # Add the final cloud-shadow mask to the image.\n",
    "    return img_cloud_shadow.addBands(is_cld_shdw)\n",
    "\n",
    "def apply_cld_shdw_mask(img):\n",
    "    # Subset the cloudmask band and invert it so clouds/shadow are 0, else 1.\n",
    "    not_cld_shdw = img.select('cloudmask').Not()\n",
    "\n",
    "    # Subset reflectance bands and update their masks, return the result.\n",
    "    return img.select('B.*').updateMask(not_cld_shdw)\n",
    "\n"
   ]
  },
  {
   "cell_type": "markdown",
   "metadata": {},
   "source": [
    "Visualization Parameters for Sentinel-2"
   ]
  },
  {
   "cell_type": "code",
   "execution_count": 5,
   "metadata": {},
   "outputs": [
    {
     "data": {
      "text/html": [
       "\n",
       "            <style>\n",
       "                .geemap-dark {\n",
       "                    --jp-widgets-color: white;\n",
       "                    --jp-widgets-label-color: white;\n",
       "                    --jp-ui-font-color1: white;\n",
       "                    --jp-layout-color2: #454545;\n",
       "                    background-color: #383838;\n",
       "                }\n",
       "\n",
       "                .geemap-dark .jupyter-button {\n",
       "                    --jp-layout-color3: #383838;\n",
       "                }\n",
       "\n",
       "                .geemap-colab {\n",
       "                    background-color: var(--colab-primary-surface-color, white);\n",
       "                }\n",
       "\n",
       "                .geemap-colab .jupyter-button {\n",
       "                    --jp-layout-color3: var(--colab-primary-surface-color, white);\n",
       "                }\n",
       "            </style>\n",
       "            "
      ],
      "text/plain": [
       "<IPython.core.display.HTML object>"
      ]
     },
     "metadata": {},
     "output_type": "display_data"
    }
   ],
   "source": [
    "s2_visualization = {\n",
    "    'min': 0,\n",
    "    'max': 10000,\n",
    "    'bands': ['B4', 'B3', 'B2'],\n",
    "    'gamma': 1.2\n",
    "}\n"
   ]
  },
  {
   "cell_type": "markdown",
   "metadata": {},
   "source": [
    "Calling image collection and generating basemap"
   ]
  },
  {
   "cell_type": "code",
   "execution_count": 6,
   "metadata": {},
   "outputs": [
    {
     "data": {
      "text/html": [
       "\n",
       "            <style>\n",
       "                .geemap-dark {\n",
       "                    --jp-widgets-color: white;\n",
       "                    --jp-widgets-label-color: white;\n",
       "                    --jp-ui-font-color1: white;\n",
       "                    --jp-layout-color2: #454545;\n",
       "                    background-color: #383838;\n",
       "                }\n",
       "\n",
       "                .geemap-dark .jupyter-button {\n",
       "                    --jp-layout-color3: #383838;\n",
       "                }\n",
       "\n",
       "                .geemap-colab {\n",
       "                    background-color: var(--colab-primary-surface-color, white);\n",
       "                }\n",
       "\n",
       "                .geemap-colab .jupyter-button {\n",
       "                    --jp-layout-color3: var(--colab-primary-surface-color, white);\n",
       "                }\n",
       "            </style>\n",
       "            "
      ],
      "text/plain": [
       "<IPython.core.display.HTML object>"
      ]
     },
     "metadata": {},
     "output_type": "display_data"
    },
    {
     "data": {
      "application/vnd.jupyter.widget-view+json": {
       "model_id": "740e60af369140c793d2fdd3ca93e96c",
       "version_major": 2,
       "version_minor": 0
      },
      "text/plain": [
       "Map(center=[7.396936580603146, 125.8087736965002], controls=(WidgetControl(options=['position', 'transparent_b…"
      ]
     },
     "execution_count": 6,
     "metadata": {},
     "output_type": "execute_result"
    }
   ],
   "source": [
    "s2_sr_col = (ee.ImageCollection('COPERNICUS/S2_SR_HARMONIZED')\n",
    "        .filterBounds(AOI)\n",
    "        .filterDate(START_DATE, END_DATE)\n",
    "        .filter(ee.Filter.lte('CLOUDY_PIXEL_PERCENTAGE', CLOUD_FILTER))\n",
    "        )\n",
    "\n",
    "map1.centerObject(AOI, 10)\n",
    "map1\n",
    "\n",
    "# map1.addLayer(s2_sr_col.median(), s2_visualization, name='S2 mean')"
   ]
  },
  {
   "cell_type": "markdown",
   "metadata": {},
   "source": [
    "Adding cloud-free composites to basemap"
   ]
  },
  {
   "cell_type": "code",
   "execution_count": 7,
   "metadata": {},
   "outputs": [
    {
     "data": {
      "text/html": [
       "\n",
       "            <style>\n",
       "                .geemap-dark {\n",
       "                    --jp-widgets-color: white;\n",
       "                    --jp-widgets-label-color: white;\n",
       "                    --jp-ui-font-color1: white;\n",
       "                    --jp-layout-color2: #454545;\n",
       "                    background-color: #383838;\n",
       "                }\n",
       "\n",
       "                .geemap-dark .jupyter-button {\n",
       "                    --jp-layout-color3: #383838;\n",
       "                }\n",
       "\n",
       "                .geemap-colab {\n",
       "                    background-color: var(--colab-primary-surface-color, white);\n",
       "                }\n",
       "\n",
       "                .geemap-colab .jupyter-button {\n",
       "                    --jp-layout-color3: var(--colab-primary-surface-color, white);\n",
       "                }\n",
       "            </style>\n",
       "            "
      ],
      "text/plain": [
       "<IPython.core.display.HTML object>"
      ]
     },
     "metadata": {},
     "output_type": "display_data"
    }
   ],
   "source": [
    "# APPLYING S2 CLOUD MASK\n",
    "s2_sr_cld_col = get_s2_sr_cld_col(AOI, START_DATE, END_DATE)\n",
    "s2_sr_median = (s2_sr_cld_col.map(add_cld_shdw_mask)\n",
    "                             .map(apply_cld_shdw_mask)\n",
    "                             .median())\n",
    "\n",
    "map1.addLayer(s2_sr_median, s2_visualization, name='s2 median cloudless')\n",
    "# nir band\n",
    "# map1.addLayer(s2_sr_median.select(['B8']), { 'min': 0, 'max': 10000, 'gamma': 1.}, name='s2 band 8/nir')"
   ]
  },
  {
   "cell_type": "code",
   "execution_count": 15,
   "metadata": {},
   "outputs": [
    {
     "data": {
      "text/html": [
       "\n",
       "            <style>\n",
       "                .geemap-dark {\n",
       "                    --jp-widgets-color: white;\n",
       "                    --jp-widgets-label-color: white;\n",
       "                    --jp-ui-font-color1: white;\n",
       "                    --jp-layout-color2: #454545;\n",
       "                    background-color: #383838;\n",
       "                }\n",
       "\n",
       "                .geemap-dark .jupyter-button {\n",
       "                    --jp-layout-color3: #383838;\n",
       "                }\n",
       "\n",
       "                .geemap-colab {\n",
       "                    background-color: var(--colab-primary-surface-color, white);\n",
       "                }\n",
       "\n",
       "                .geemap-colab .jupyter-button {\n",
       "                    --jp-layout-color3: var(--colab-primary-surface-color, white);\n",
       "                }\n",
       "            </style>\n",
       "            "
      ],
      "text/plain": [
       "<IPython.core.display.HTML object>"
      ]
     },
     "metadata": {},
     "output_type": "display_data"
    },
    {
     "name": "stdout",
     "output_type": "stream",
     "text": [
      "All band names: ['B1', 'B2', 'B3', 'B4', 'B5', 'B6', 'B7', 'B8', 'B8A', 'B9', 'B11', 'B12']\n"
     ]
    }
   ],
   "source": [
    "print('All band names:', s2_sr_median.bandNames().getInfo())"
   ]
  },
  {
   "cell_type": "markdown",
   "metadata": {},
   "source": [
    "Exporting satellite image to Google Drive"
   ]
  },
  {
   "cell_type": "code",
   "execution_count": 23,
   "metadata": {},
   "outputs": [
    {
     "data": {
      "text/html": [
       "\n",
       "            <style>\n",
       "                .geemap-dark {\n",
       "                    --jp-widgets-color: white;\n",
       "                    --jp-widgets-label-color: white;\n",
       "                    --jp-ui-font-color1: white;\n",
       "                    --jp-layout-color2: #454545;\n",
       "                    background-color: #383838;\n",
       "                }\n",
       "\n",
       "                .geemap-dark .jupyter-button {\n",
       "                    --jp-layout-color3: #383838;\n",
       "                }\n",
       "\n",
       "                .geemap-colab {\n",
       "                    background-color: var(--colab-primary-surface-color, white);\n",
       "                }\n",
       "\n",
       "                .geemap-colab .jupyter-button {\n",
       "                    --jp-layout-color3: var(--colab-primary-surface-color, white);\n",
       "                }\n",
       "            </style>\n",
       "            "
      ],
      "text/plain": [
       "<IPython.core.display.HTML object>"
      ]
     },
     "metadata": {},
     "output_type": "display_data"
    },
    {
     "name": "stdout",
     "output_type": "stream",
     "text": [
      "Running task EXPORT_IMAGE of tagum_q12023_s2\n"
     ]
    },
    {
     "data": {
      "text/plain": [
       "{'state': 'COMPLETED',\n",
       " 'description': 'tagum_q12023_s2',\n",
       " 'priority': 100,\n",
       " 'creation_timestamp_ms': 1719540549015,\n",
       " 'update_timestamp_ms': 1719540665877,\n",
       " 'start_timestamp_ms': 1719540554177,\n",
       " 'task_type': 'EXPORT_IMAGE',\n",
       " 'destination_uris': ['https://drive.google.com/#folders/1oEepCQNgwsTFqyKzxD3ckw3zAYWLFoSL'],\n",
       " 'attempt': 1,\n",
       " 'batch_eecu_usage_seconds': 720.449951171875,\n",
       " 'id': 'BDSTPU7ARUSC3LIKN77M2JEC',\n",
       " 'name': 'projects/earthengine-legacy/operations/BDSTPU7ARUSC3LIKN77M2JEC'}"
      ]
     },
     "execution_count": 23,
     "metadata": {},
     "output_type": "execute_result"
    }
   ],
   "source": [
    "task = ee.batch.Export.image.toDrive(**{\n",
    "    'image': s2_sr_median.clip(AOI),\n",
    "    'description': output_name,\n",
    "    'folder': 'autocam_s2',\n",
    "    'scale': 30,\n",
    "    'region': AOI.geometry(),\n",
    "    'crs': 'EPSG:4326'\n",
    "    \n",
    "})\n",
    "\n",
    "task.start()\n",
    "print(f\"Running task {task.status()['task_type']} of {task.status()['description']}\")\n",
    "\n",
    "while(task.status()['state'] != 'COMPLETED'):\n",
    "    continue\n",
    "\n",
    "task.status()\n"
   ]
  },
  {
   "cell_type": "markdown",
   "metadata": {},
   "source": [
    "Downloading from GDrive using Google Drive API (in Google Cloud)"
   ]
  },
  {
   "cell_type": "code",
   "execution_count": 24,
   "metadata": {},
   "outputs": [
    {
     "data": {
      "text/html": [
       "\n",
       "            <style>\n",
       "                .geemap-dark {\n",
       "                    --jp-widgets-color: white;\n",
       "                    --jp-widgets-label-color: white;\n",
       "                    --jp-ui-font-color1: white;\n",
       "                    --jp-layout-color2: #454545;\n",
       "                    background-color: #383838;\n",
       "                }\n",
       "\n",
       "                .geemap-dark .jupyter-button {\n",
       "                    --jp-layout-color3: #383838;\n",
       "                }\n",
       "\n",
       "                .geemap-colab {\n",
       "                    background-color: var(--colab-primary-surface-color, white);\n",
       "                }\n",
       "\n",
       "                .geemap-colab .jupyter-button {\n",
       "                    --jp-layout-color3: var(--colab-primary-surface-color, white);\n",
       "                }\n",
       "            </style>\n",
       "            "
      ],
      "text/plain": [
       "<IPython.core.display.HTML object>"
      ]
     },
     "metadata": {},
     "output_type": "display_data"
    },
    {
     "name": "stdout",
     "output_type": "stream",
     "text": [
      "Here's a list of files: \n",
      "\n",
      "{'id': '1eT4DJt-QsDQ_NyQQS0gaAphAF55qL9Ad', 'name': 'tagum_q12023_s2.tif'}\n",
      "{'id': '1oEepCQNgwsTFqyKzxD3ckw3zAYWLFoSL', 'name': 'autocam_s2'}\n",
      "{'id': '13nAYMK4YVQe5DIZD6QHWcPQkEUeaYKT51CJTXcKeTaY', 'name': 'ISPRS Summer School 2024 - Program of Activities'}\n",
      "{'id': '1QiufI0oUDlSVZrVPDwiixPH0Sve2gp8bEI0qbuNUKDo', 'name': 'backup AUTOCAM RRL NOTES'}\n",
      "{'id': '1-hpNXQKX0aqaXo2BsdXjiUwqJGqPUuAT', 'name': '061424_AutoCAM-PhilSA-Meeting-Request.pdf'}\n",
      "\n",
      "File Downloaded\n"
     ]
    }
   ],
   "source": [
    "# import the required libraries \n",
    "from __future__ import print_function \n",
    "import pickle \n",
    "import os.path \n",
    "import io \n",
    "import shutil \n",
    "import requests \n",
    "from mimetypes import MimeTypes \n",
    "from googleapiclient.discovery import build \n",
    "from google_auth_oauthlib.flow import InstalledAppFlow \n",
    "from google.auth.transport.requests import Request \n",
    "from googleapiclient.http import MediaIoBaseDownload, MediaFileUpload \n",
    "\n",
    "class DriveAPI: \n",
    "\tglobal SCOPES \n",
    "\t\n",
    "\t# Define the scopes \n",
    "\tSCOPES = ['https://www.googleapis.com/auth/drive'] \n",
    "\n",
    "\tdef __init__(self): \n",
    "\t\t\n",
    "\t\t# Variable self.creds will \n",
    "\t\t# store the user access token. \n",
    "\t\t# If no valid token found \n",
    "\t\t# we will create one. \n",
    "\t\tself.creds = None\n",
    "\n",
    "\t\t# The file token.pickle stores the \n",
    "\t\t# user's access and refresh tokens. It is \n",
    "\t\t# created automatically when the authorization \n",
    "\t\t# flow completes for the first time. \n",
    "\n",
    "\t\t# Check if file token.pickle exists \n",
    "\t\tif os.path.exists('token.pickle'): \n",
    "\n",
    "\t\t\t# Read the token from the file and \n",
    "\t\t\t# store it in the variable self.creds \n",
    "\t\t\twith open('token.pickle', 'rb') as token: \n",
    "\t\t\t\tself.creds = pickle.load(token) \n",
    "\n",
    "\t\t# If no valid credentials are available, \n",
    "\t\t# request the user to log in. \n",
    "\t\tif not self.creds or not self.creds.valid: \n",
    "\n",
    "\t\t\t# If token is expired, it will be refreshed, \n",
    "\t\t\t# else, we will request a new one. \n",
    "\t\t\tif self.creds and self.creds.expired and self.creds.refresh_token: \n",
    "\t\t\t\tself.creds.refresh(Request()) \n",
    "\t\t\telse: \n",
    "\t\t\t\tflow = InstalledAppFlow.from_client_secrets_file( \n",
    "\t\t\t\t\t'gee-dl_credentials.json', SCOPES) \n",
    "\t\t\t\tself.creds = flow.run_local_server(port=0) \n",
    "\n",
    "\t\t\t# Save the access token in token.pickle \n",
    "\t\t\t# file for future usage \n",
    "\t\t\twith open('token.pickle', 'wb') as token: \n",
    "\t\t\t\tpickle.dump(self.creds, token) \n",
    "\n",
    "\t\t# Connect to the API service \n",
    "\t\tself.service = build('drive', 'v3', credentials=self.creds) \n",
    "\n",
    "\t\t# request a list of first N files or \n",
    "\t\t# folders with name and id from the API. \n",
    "\t\tresults = self.service.files().list( \n",
    "\t\t\tpageSize=100, fields=\"files(id, name)\").execute() \n",
    "\t\titems = results.get('files', []) \n",
    "\n",
    "\t\t# print a list of files \n",
    "\n",
    "\t\tprint(\"Here's a list of files: \\n\") \n",
    "\t\tprint(*items, sep=\"\\n\", end=\"\\n\\n\") \n",
    "\n",
    "\tdef FileDownload(self, file_id, file_name): \n",
    "\t\trequest = self.service.files().get_media(fileId=file_id) \n",
    "\t\tfh = io.BytesIO() \n",
    "\t\t\n",
    "\t\t# Initialise a downloader object to download the file \n",
    "\t\tdownloader = MediaIoBaseDownload(fh, request, chunksize=204800) \n",
    "\t\tdone = False\n",
    "\n",
    "\t\ttry: \n",
    "\t\t\t# Download the data in chunks \n",
    "\t\t\twhile not done: \n",
    "\t\t\t\tstatus, done = downloader.next_chunk() \n",
    "\n",
    "\t\t\tfh.seek(0) \n",
    "\t\t\t\n",
    "\t\t\t# Write the received data to the file \n",
    "\t\t\twith open(file_name, 'wb') as f: \n",
    "\t\t\t\tshutil.copyfileobj(fh, f) \n",
    "\n",
    "\t\t\tprint(\"File Downloaded\") \n",
    "\t\t\t# Return True if file Downloaded successfully \n",
    "\t\t\treturn True\n",
    "\t\texcept: \n",
    "\t\t\t\n",
    "\t\t\t# Return False if something went wrong \n",
    "\t\t\tprint(\"Something went wrong.\") \n",
    "\t\t\treturn False\n",
    "\n",
    "\tdef FileUpload(self, filepath): \n",
    "\t\t\n",
    "\t\t# Extract the file name out of the file path \n",
    "\t\tname = filepath.split('/')[-1] \n",
    "\t\t\n",
    "\t\t# Find the MimeType of the file \n",
    "\t\tmimetype = MimeTypes().guess_type(name)[0] \n",
    "\t\t\n",
    "\t\t# create file metadata \n",
    "\t\tfile_metadata = {'name': name} \n",
    "\n",
    "\t\ttry: \n",
    "\t\t\tmedia = MediaFileUpload(filepath, mimetype=mimetype) \n",
    "\t\t\t\n",
    "\t\t\t# Create a new file in the Drive storage \n",
    "\t\t\tfile = self.service.files().create( \n",
    "\t\t\t\tbody=file_metadata, media_body=media, fields='id').execute() \n",
    "\t\t\t\n",
    "\t\t\tprint(\"File Uploaded.\") \n",
    "\t\t\n",
    "\t\texcept: \n",
    "\t\t\t\n",
    "\t\t\t# Raise UploadError if file is not uploaded. \n",
    "\t\t\traise UploadError(\"Can't Upload File.\") \n",
    "\n",
    "if __name__ == \"__main__\": \n",
    "\tobj = DriveAPI() \n",
    "\t# i = int(input(\"Enter your choice: 1 - Download file, 2- Upload File, 3- Exit.\\n\")) \n",
    "\ti = 1 \n",
    "\t\n",
    "\tif i == 1: \n",
    "\t\tf_id = input(\"Enter file id: \") \n",
    "\t\tf_name = fr\"{output_name}.tif\" \n",
    "\t\tobj.FileDownload(f_id, f_name) \n",
    "\t\t\n",
    "\telif i == 2: \n",
    "\t\tf_path = input(\"Enter full file path: \") \n",
    "\t\tobj.FileUpload(f_path) \n",
    "\t\n",
    "\telse: \n",
    "\t\texit() \n"
   ]
  }
 ],
 "metadata": {
  "kernelspec": {
   "display_name": "lupa_02",
   "language": "python",
   "name": "python3"
  },
  "language_info": {
   "codemirror_mode": {
    "name": "ipython",
    "version": 3
   },
   "file_extension": ".py",
   "mimetype": "text/x-python",
   "name": "python",
   "nbconvert_exporter": "python",
   "pygments_lexer": "ipython3",
   "version": "3.12.3"
  }
 },
 "nbformat": 4,
 "nbformat_minor": 2
}
